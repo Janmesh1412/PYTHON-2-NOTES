{
 "cells": [
  {
   "cell_type": "code",
   "execution_count": 5,
   "metadata": {},
   "outputs": [],
   "source": [
    "import pandas as  pd\n",
    "import matplotlib.pyplot  as plt\n",
    "from sklearn.model_selection import train_test_split"
   ]
  },
  {
   "cell_type": "code",
   "execution_count": 7,
   "metadata": {},
   "outputs": [
    {
     "data": {
      "text/plain": [
       "(768, 9)"
      ]
     },
     "execution_count": 7,
     "metadata": {},
     "output_type": "execute_result"
    }
   ],
   "source": [
    "df=pd.read_csv(\"diabetes.csv\")\n",
    "df.head()\n",
    "df.shape"
   ]
  },
  {
   "cell_type": "code",
   "execution_count": 49,
   "metadata": {},
   "outputs": [
    {
     "name": "stdout",
     "output_type": "stream",
     "text": [
      "     Pregnancies  Glucose  BloodPressure  SkinThickness  Insulin   BMI  \\\n",
      "659            3       80             82             31       70  34.2   \n",
      "357           13      129              0             30        0  39.9   \n",
      "574            1      143             86             30      330  30.1   \n",
      "168            4      110             66              0        0  31.9   \n",
      "744           13      153             88             37      140  40.6   \n",
      "..           ...      ...            ...            ...      ...   ...   \n",
      "130            4      173             70             14      168  29.7   \n",
      "239            0      104             76              0        0  18.4   \n",
      "498            7      195             70             33      145  25.1   \n",
      "710            3      158             64             13      387  31.2   \n",
      "762            9       89             62              0        0  22.5   \n",
      "\n",
      "     DiabetesPedigreeFunction  Age  \n",
      "659                     1.292   27  \n",
      "357                     0.569   44  \n",
      "574                     0.892   23  \n",
      "168                     0.471   29  \n",
      "744                     1.174   39  \n",
      "..                        ...  ...  \n",
      "130                     0.361   33  \n",
      "239                     0.582   27  \n",
      "498                     0.163   55  \n",
      "710                     0.295   24  \n",
      "762                     0.142   33  \n",
      "\n",
      "[154 rows x 8 columns]\n"
     ]
    }
   ],
   "source": [
    "x=df.iloc[:,0:8]\n",
    "y=df.iloc[:,8]\n",
    "x_train,x_test,y_train,y_test=train_test_split(x,y,test_size=0.2,random_state=4)\n",
    "print(x_test)"
   ]
  },
  {
   "cell_type": "code",
   "execution_count": 50,
   "metadata": {},
   "outputs": [
    {
     "name": "stdout",
     "output_type": "stream",
     "text": [
      "[0 0 1 0 1 1 1 1 0 0 1 1 1 0 1 0 0 0 0 0 0 0 0 0 1 0 0 0 0 0 0 0 1 0 0 1 0\n",
      " 0 0 1 0 0 0 0 1 0 0 0 0 0 1 0 1 0 1 0 0 0 0 1 1 0 0 0 0 1 1 0 0 0 1 0 0 0\n",
      " 0 0 1 1 1 0 1 1 1 1 1 0 0 0 1 0 1 0 0 1 0 0 0 0 0 0 0 1 0 0 0 0 1 0 0 0 0\n",
      " 0 1 0 1 0 0 1 1 0 0 0 0 0 1 0 0 0 1 0 1 1 0 1 1 1 0 0 1 0 0 0 1 1 0 0 0 0\n",
      " 0 1 0 1 0 0]\n",
      "\n",
      "659    1\n",
      "357    1\n",
      "574    0\n",
      "168    0\n",
      "744    0\n",
      "      ..\n",
      "130    1\n",
      "239    0\n",
      "498    1\n",
      "710    0\n",
      "762    0\n",
      "Name: Outcome, Length: 154, dtype: int64\n"
     ]
    }
   ],
   "source": [
    "from sklearn.neighbors import KNeighborsClassifier\n",
    "knn=KNeighborsClassifier(n_neighbors=7)\n",
    "model=knn.fit(x_train,y_train)\n",
    "pred=model.predict(x_test)\n",
    "print(pred)\n",
    "print()\n",
    "print(y_test)"
   ]
  },
  {
   "cell_type": "code",
   "execution_count": 51,
   "metadata": {},
   "outputs": [
    {
     "name": "stdout",
     "output_type": "stream",
     "text": [
      "[[71 18]\n",
      " [32 33]]\n"
     ]
    }
   ],
   "source": [
    "#Confussion Matrix\n",
    "#   TP/TN= True_+ve/-ve\n",
    "#   FP/FN= False_+ve/-ve\n",
    "\n",
    "# Accuracy = TP+TN/TP+TN+FN+FP\n",
    "# ERROR RATE = 1- Accuracy\n",
    "# Specificty = TN/TN+FP  negative example classify\n",
    "# Sensitivity= TP/TP+FN  positive example classify\n",
    "\n",
    "from sklearn.metrics import confusion_matrix\n",
    "cm=confusion_matrix(y_test,pred)\n",
    "print(cm)\n"
   ]
  },
  {
   "cell_type": "code",
   "execution_count": 52,
   "metadata": {},
   "outputs": [
    {
     "name": "stdout",
     "output_type": "stream",
     "text": [
      "154.46478873239437\n",
      "-153.46478873239437\n",
      "33.0\n",
      "19.0\n"
     ]
    }
   ],
   "source": [
    "TP=cm[0][0]\n",
    "FP=cm[0][1]\n",
    "FN=cm[1][0]\n",
    "TN=cm[1][1]\n",
    "Accuracy = TP+TN/TP+TN+FN+FP\n",
    "ERROR_RATE = 1- Accuracy\n",
    "Specificty = TN/TN+FP \n",
    "Sensitivity= TP/TP+FN\n",
    "print(Accuracy)\n",
    "print(ERROR_RATE)\n",
    "print(Sensitivity)\n",
    "print(Specificty)"
   ]
  },
  {
   "cell_type": "markdown",
   "metadata": {},
   "source": [
    "df1=pd.read_csv(\"Iris.csv\")\n",
    "x1=df1.iloc[:,0:5]\n",
    "y1=df1.iloc[:,5]\n",
    "\n",
    "x1_train,x1_test,y1_train,y1_test=train_test_split(x1,y1,test_size=0.2,random_state=3)\n",
    "knn1=KNeighborsClassifier(n_neighbors=27)\n",
    "model1=knn1.fit(x1_train,y1_train)\n",
    "pred1=model1.predict(x1_test)\n",
    "print(pred1)\n",
    "print()\n",
    "print(y1_test)"
   ]
  },
  {
   "cell_type": "code",
   "execution_count": 68,
   "metadata": {},
   "outputs": [
    {
     "name": "stdout",
     "output_type": "stream",
     "text": [
      "[[10  0  0]\n",
      " [ 0 10  0]\n",
      " [ 0  0 10]]\n"
     ]
    }
   ],
   "source": [
    "\n",
    "cm1=confusion_matrix(y1_test,pred1)\n",
    "print(cm1)"
   ]
  },
  {
   "cell_type": "code",
   "execution_count": 70,
   "metadata": {},
   "outputs": [
    {
     "name": "stdout",
     "output_type": "stream",
     "text": [
      "21.0\n",
      "-20.0\n",
      "1.0\n",
      "1.0\n"
     ]
    }
   ],
   "source": [
    "TP1=cm1[0][0]\n",
    "FP1=cm1[0][1]\n",
    "FN1=cm1[1][0]\n",
    "TN1=cm1[1][1]\n",
    "Accuracy1= TP1+TN1/TP1+TN1+FN1+FP1\n",
    "ERROR_RATE1 = 1- Accuracy1\n",
    "Specificty1 = TN1/TN1+FP1 \n",
    "Sensitivity1= TP1/TP1+FN1\n",
    "print(Accuracy1)\n",
    "print(ERROR_RATE1)\n",
    "print(Sensitivity1)\n",
    "print(Specificty1)"
   ]
  },
  {
   "cell_type": "code",
   "execution_count": null,
   "metadata": {},
   "outputs": [],
   "source": []
  }
 ],
 "metadata": {
  "kernelspec": {
   "display_name": "Python 3",
   "language": "python",
   "name": "python3"
  },
  "language_info": {
   "codemirror_mode": {
    "name": "ipython",
    "version": 3
   },
   "file_extension": ".py",
   "mimetype": "text/x-python",
   "name": "python",
   "nbconvert_exporter": "python",
   "pygments_lexer": "ipython3",
   "version": "3.8.5"
  }
 },
 "nbformat": 4,
 "nbformat_minor": 4
}
