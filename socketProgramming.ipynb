{
 "cells": [
  {
   "cell_type": "markdown",
   "metadata": {},
   "source": [
    "Socket programming"
   ]
  },
  {
   "cell_type": "code",
   "execution_count": 14,
   "metadata": {},
   "outputs": [],
   "source": [
    "import socket as sc"
   ]
  },
  {
   "cell_type": "code",
   "execution_count": 7,
   "metadata": {},
   "outputs": [
    {
     "data": {
      "text/plain": [
       "'406-7-238'"
      ]
     },
     "execution_count": 7,
     "metadata": {},
     "output_type": "execute_result"
    }
   ],
   "source": [
    "h=(sc.gethostname())\n",
    "h"
   ]
  },
  {
   "cell_type": "code",
   "execution_count": 8,
   "metadata": {},
   "outputs": [
    {
     "name": "stdout",
     "output_type": "stream",
     "text": [
      "192.168.104.238\n"
     ]
    }
   ],
   "source": [
    "print(sc.gethostbyname(h))#ip address"
   ]
  },
  {
   "cell_type": "code",
   "execution_count": 10,
   "metadata": {},
   "outputs": [
    {
     "name": "stdout",
     "output_type": "stream",
     "text": [
      "localhost: 127.0.0.1\n",
      "port 59067\n"
     ]
    }
   ],
   "source": [
    "with sc.socket(sc.AF_INET,sc.SOCK_STREAM)as s:\n",
    "    s.bind((\"localhost\",0))\n",
    "    a,port=s.getsockname()\n",
    "print(\"localhost:\",a)\n",
    "print(\"port\",port)"
   ]
  },
  {
   "cell_type": "code",
   "execution_count": null,
   "metadata": {},
   "outputs": [],
   "source": [
    "import socket"
   ]
  },
  {
   "cell_type": "code",
   "execution_count": 24,
   "metadata": {},
   "outputs": [
    {
     "name": "stdout",
     "output_type": "stream",
     "text": [
      "Overwriting server_tcp.py\n"
     ]
    }
   ],
   "source": [
    "\n",
    "%%writefile server_tcp.py\n",
    "import socket\n",
    "host=socket.gethostname()\n",
    "port=2000\n",
    "Addr=(host,port)\n",
    "Server_Socket=socket.socket()\n",
    "Server_Socket.bind(Addr)\n",
    "Server_Socket.listen()\n",
    "conn,addr=Server_Socket.accept()\n",
    "print(\"Connection confirm\",str(addr))\n",
    "while True:\n",
    "    data=conn.recv(1024).decode()\n",
    "    if not data:\n",
    "        break\n",
    "    print(data)\n",
    "    data=input(\"-->\")\n",
    "    conn.send(data.encode())\n",
    "conn.close()"
   ]
  },
  {
   "cell_type": "code",
   "execution_count": 27,
   "metadata": {},
   "outputs": [
    {
     "name": "stdout",
     "output_type": "stream",
     "text": [
      "Overwriting client_tcp.py\n"
     ]
    }
   ],
   "source": [
    "%%writefile client_tcp.py\n",
    "import socket\n",
    "host=socket.gethostname()\n",
    "port=2000\n",
    "Addr=(\"406-7-248\",port)\n",
    "client_Socket=socket.socket()\n",
    "client_Socket.connect(Addr)\n",
    "msg=input(\"-->\")\n",
    "while msg !=\"\":\n",
    "    client_Socket.send(msg.encode())\n",
    "    data=client_Socket.recv(1024).decode()\n",
    "    print(\"received from server : \", data)\n",
    "    msg=input(\"-->\")\n",
    "client_Socket.close()\n",
    "    "
   ]
  },
  {
   "cell_type": "code",
   "execution_count": null,
   "metadata": {},
   "outputs": [],
   "source": []
  }
 ],
 "metadata": {
  "kernelspec": {
   "display_name": "Python 3",
   "language": "python",
   "name": "python3"
  },
  "language_info": {
   "codemirror_mode": {
    "name": "ipython",
    "version": 3
   },
   "file_extension": ".py",
   "mimetype": "text/x-python",
   "name": "python",
   "nbconvert_exporter": "python",
   "pygments_lexer": "ipython3",
   "version": "3.8.5"
  }
 },
 "nbformat": 4,
 "nbformat_minor": 4
}
